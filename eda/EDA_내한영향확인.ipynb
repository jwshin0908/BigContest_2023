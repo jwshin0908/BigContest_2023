{
 "cells": [
  {
   "cell_type": "code",
   "execution_count": 23,
   "id": "2af3d3cd",
   "metadata": {},
   "outputs": [
    {
     "data": {
      "text/plain": [
       "\"\\n'age'\\n'gender'\\n'membership_type_1'\\n'membership_type_2'\\n'membership_type_3'\\n'membership_type_4'\\n'membership_type_5'\\n'membership_type_6'\\n'tran_date'\\n'tran_time'\\n'play_date'\\n'play_st_time'\\n'seat'\\n'price'\\n'ticket_cancel'\\n'discount_type'\\n'performance_code'\\n'pre_open_date'\\n'open_date'\\n'genre'\\n'place'\\n'running_time'\\n'intermission'\\n'member_yn'\\n'공연명'\\n'내한여부'\\n\""
      ]
     },
     "execution_count": 23,
     "metadata": {},
     "output_type": "execute_result"
    }
   ],
   "source": [
    "'''\n",
    "'age' : 국내 공연 < 내한 공연\n",
    "'gender' : 유의미X\n",
    "'membership_type_1' : 유의미X\n",
    "'membership_type_2' : 유의미X\n",
    "'membership_type_3' : 유의미X\n",
    "'membership_type_4' : 유의미X\n",
    "'membership_type_5' : 유의미X\n",
    "'membership_type_6' : 유의미X\n",
    "'tran_date'\n",
    "'tran_time'\n",
    "'play_date'\n",
    "'play_st_time'\n",
    "'seat'\n",
    "'price' : 국내 공연 > 내한 공연\n",
    "'ticket_cancel'\n",
    "'discount_type'\n",
    "'performance_code'\n",
    "'pre_open_date'\n",
    "'open_date'\n",
    "'genre'\n",
    "'place'\n",
    "'running_time'\n",
    "'intermission'\n",
    "'member_yn'\n",
    "'공연명'\n",
    "'내한여부'\n",
    "'''"
   ]
  },
  {
   "cell_type": "code",
   "execution_count": 2,
   "id": "095799a6",
   "metadata": {},
   "outputs": [],
   "source": [
    "import numpy as np\n",
    "import pandas as pd\n",
    "import matplotlib.pyplot as plt\n",
    "import seaborn as sns\n",
    "import matplotlib.pyplot as plt\n",
    "import warnings\n",
    "\n",
    "warnings.filterwarnings(action='ignore')\n",
    "pd.set_option('display.max_columns',None)\n",
    "#pd.set_option('display.max_rows',None)\n",
    "pd.options.display.float_format=\"{:.5f}\".format\n",
    "plt.rcParams['font.family'] = 'Malgun Gothic'\n",
    "plt.rcParams['axes.unicode_minus'] = False"
   ]
  },
  {
   "cell_type": "code",
   "execution_count": 3,
   "id": "e984043d",
   "metadata": {},
   "outputs": [],
   "source": [
    "sns.set_palette('Set2')"
   ]
  },
  {
   "cell_type": "code",
   "execution_count": 4,
   "id": "440b5e2e",
   "metadata": {},
   "outputs": [],
   "source": [
    "data = pd.read_csv('data/제공데이터_공연명_내한_매칭.csv')"
   ]
  },
  {
   "cell_type": "code",
   "execution_count": 5,
   "id": "379d85c4",
   "metadata": {
    "scrolled": true
   },
   "outputs": [
    {
     "data": {
      "text/html": [
       "<div>\n",
       "<style scoped>\n",
       "    .dataframe tbody tr th:only-of-type {\n",
       "        vertical-align: middle;\n",
       "    }\n",
       "\n",
       "    .dataframe tbody tr th {\n",
       "        vertical-align: top;\n",
       "    }\n",
       "\n",
       "    .dataframe thead th {\n",
       "        text-align: right;\n",
       "    }\n",
       "</style>\n",
       "<table border=\"1\" class=\"dataframe\">\n",
       "  <thead>\n",
       "    <tr style=\"text-align: right;\">\n",
       "      <th></th>\n",
       "      <th>age</th>\n",
       "      <th>gender</th>\n",
       "      <th>membership_type_1</th>\n",
       "      <th>membership_type_2</th>\n",
       "      <th>membership_type_3</th>\n",
       "      <th>membership_type_4</th>\n",
       "      <th>membership_type_5</th>\n",
       "      <th>membership_type_6</th>\n",
       "      <th>tran_date</th>\n",
       "      <th>tran_time</th>\n",
       "      <th>play_date</th>\n",
       "      <th>play_st_time</th>\n",
       "      <th>seat</th>\n",
       "      <th>price</th>\n",
       "      <th>ticket_cancel</th>\n",
       "      <th>discount_type</th>\n",
       "      <th>performance_code</th>\n",
       "      <th>pre_open_date</th>\n",
       "      <th>open_date</th>\n",
       "      <th>genre</th>\n",
       "      <th>place</th>\n",
       "      <th>running_time</th>\n",
       "      <th>intermission</th>\n",
       "      <th>member_yn</th>\n",
       "      <th>공연명</th>\n",
       "      <th>내한여부</th>\n",
       "    </tr>\n",
       "  </thead>\n",
       "  <tbody>\n",
       "    <tr>\n",
       "      <th>0</th>\n",
       "      <td>50.00000</td>\n",
       "      <td>M</td>\n",
       "      <td>무료</td>\n",
       "      <td>NaN</td>\n",
       "      <td>NaN</td>\n",
       "      <td>NaN</td>\n",
       "      <td>NaN</td>\n",
       "      <td>NaN</td>\n",
       "      <td>20220206</td>\n",
       "      <td>1615</td>\n",
       "      <td>20220302</td>\n",
       "      <td>1930</td>\n",
       "      <td>1층 B블록12열 7</td>\n",
       "      <td>180000</td>\n",
       "      <td>0</td>\n",
       "      <td>일반</td>\n",
       "      <td>897</td>\n",
       "      <td>20220109.00000</td>\n",
       "      <td>20220110.00000</td>\n",
       "      <td>독주</td>\n",
       "      <td>콘서트홀</td>\n",
       "      <td>90</td>\n",
       "      <td>0</td>\n",
       "      <td>Y</td>\n",
       "      <td>국립합창단 위대한 합창 Ⅰ, 칼 오르프 &amp; 카르미나 부라나</td>\n",
       "      <td>0</td>\n",
       "    </tr>\n",
       "  </tbody>\n",
       "</table>\n",
       "</div>"
      ],
      "text/plain": [
       "       age gender membership_type_1 membership_type_2 membership_type_3  \\\n",
       "0 50.00000      M                무료               NaN               NaN   \n",
       "\n",
       "  membership_type_4 membership_type_5  membership_type_6  tran_date  \\\n",
       "0               NaN               NaN                NaN   20220206   \n",
       "\n",
       "   tran_time  play_date  play_st_time         seat   price  ticket_cancel  \\\n",
       "0       1615   20220302          1930  1층 B블록12열 7  180000              0   \n",
       "\n",
       "  discount_type  performance_code  pre_open_date      open_date genre place  \\\n",
       "0            일반               897 20220109.00000 20220110.00000    독주  콘서트홀   \n",
       "\n",
       "   running_time  intermission member_yn                               공연명  \\\n",
       "0            90             0         Y  국립합창단 위대한 합창 Ⅰ, 칼 오르프 & 카르미나 부라나   \n",
       "\n",
       "   내한여부  \n",
       "0     0  "
      ]
     },
     "execution_count": 5,
     "metadata": {},
     "output_type": "execute_result"
    }
   ],
   "source": [
    "data.head(1)"
   ]
  },
  {
   "cell_type": "code",
   "execution_count": 6,
   "id": "36a022d9",
   "metadata": {},
   "outputs": [
    {
     "data": {
      "text/plain": [
       "Index(['age', 'gender', 'membership_type_1', 'membership_type_2',\n",
       "       'membership_type_3', 'membership_type_4', 'membership_type_5',\n",
       "       'membership_type_6', 'tran_date', 'tran_time', 'play_date',\n",
       "       'play_st_time', 'seat', 'price', 'ticket_cancel', 'discount_type',\n",
       "       'performance_code', 'pre_open_date', 'open_date', 'genre', 'place',\n",
       "       'running_time', 'intermission', 'member_yn', '공연명', '내한여부'],\n",
       "      dtype='object')"
      ]
     },
     "execution_count": 6,
     "metadata": {},
     "output_type": "execute_result"
    }
   ],
   "source": [
    "data.columns"
   ]
  },
  {
   "cell_type": "code",
   "execution_count": 7,
   "id": "f8aa7d2e",
   "metadata": {
    "scrolled": false
   },
   "outputs": [
    {
     "name": "stdout",
     "output_type": "stream",
     "text": [
      "<class 'pandas.core.frame.DataFrame'>\n",
      "RangeIndex: 791458 entries, 0 to 791457\n",
      "Data columns (total 26 columns):\n",
      " #   Column             Non-Null Count   Dtype  \n",
      "---  ------             --------------   -----  \n",
      " 0   age                350895 non-null  float64\n",
      " 1   gender             351105 non-null  object \n",
      " 2   membership_type_1  351105 non-null  object \n",
      " 3   membership_type_2  284185 non-null  object \n",
      " 4   membership_type_3  102989 non-null  object \n",
      " 5   membership_type_4  18570 non-null   object \n",
      " 6   membership_type_5  856 non-null     object \n",
      " 7   membership_type_6  0 non-null       float64\n",
      " 8   tran_date          791458 non-null  int64  \n",
      " 9   tran_time          791458 non-null  int64  \n",
      " 10  play_date          791458 non-null  int64  \n",
      " 11  play_st_time       791458 non-null  int64  \n",
      " 12  seat               791458 non-null  object \n",
      " 13  price              791458 non-null  int64  \n",
      " 14  ticket_cancel      791458 non-null  int64  \n",
      " 15  discount_type      791458 non-null  object \n",
      " 16  performance_code   791458 non-null  int64  \n",
      " 17  pre_open_date      516992 non-null  float64\n",
      " 18  open_date          791458 non-null  float64\n",
      " 19  genre              791458 non-null  object \n",
      " 20  place              791458 non-null  object \n",
      " 21  running_time       791458 non-null  int64  \n",
      " 22  intermission       791458 non-null  int64  \n",
      " 23  member_yn          791458 non-null  object \n",
      " 24  공연명                791458 non-null  object \n",
      " 25  내한여부               791458 non-null  int64  \n",
      "dtypes: float64(4), int64(10), object(12)\n",
      "memory usage: 157.0+ MB\n"
     ]
    }
   ],
   "source": [
    "data.info()"
   ]
  },
  {
   "cell_type": "code",
   "execution_count": 8,
   "id": "806d4286",
   "metadata": {},
   "outputs": [
    {
     "data": {
      "text/plain": [
       "0    648678\n",
       "1    142780\n",
       "Name: 내한여부, dtype: int64"
      ]
     },
     "execution_count": 8,
     "metadata": {},
     "output_type": "execute_result"
    }
   ],
   "source": [
    "data['내한여부'].value_counts()"
   ]
  },
  {
   "cell_type": "code",
   "execution_count": 9,
   "id": "3299654d",
   "metadata": {},
   "outputs": [],
   "source": [
    "data_0 = data[data['내한여부'] == 0]\n",
    "data_1 = data[data['내한여부'] == 1]"
   ]
  },
  {
   "cell_type": "markdown",
   "id": "0a2a1a41",
   "metadata": {},
   "source": [
    "### 나이(age)\n",
    "+ 국내 공연 < 내한 공연 : 5,60대의 비율이 증가함"
   ]
  },
  {
   "cell_type": "code",
   "execution_count": 10,
   "id": "807b45f6",
   "metadata": {},
   "outputs": [
    {
     "name": "stdout",
     "output_type": "stream",
     "text": [
      "국내 공연 평균 : 42.7660640073882, 내한 공연 평균: 43.6006631586535\n"
     ]
    }
   ],
   "source": [
    "print(f\"국내 공연 평균 : {data_0['age'].mean()}, 내한 공연 평균: {data_1['age'].mean()}\")"
   ]
  },
  {
   "cell_type": "markdown",
   "id": "88578ef8",
   "metadata": {},
   "source": [
    "#### 국내 공연"
   ]
  },
  {
   "cell_type": "code",
   "execution_count": 11,
   "id": "6a8ebc05",
   "metadata": {},
   "outputs": [
    {
     "data": {
      "image/png": "[encoded data removed]",
      "text/plain": [
       "<Figure size 1080x360 with 1 Axes>"
      ]
     },
     "metadata": {
      "needs_background": "light"
     },
     "output_type": "display_data"
    }
   ],
   "source": [
    "plt.figure(figsize=(15,5))\n",
    "sns.countplot(x='age', data=data_0, order=data_0['age'].unique().tolist().sort(key=lambda x: str(x)[:2]))\n",
    "plt.xlabel(\"나이대\")\n",
    "plt.ylabel(\"예매 건수\")\n",
    "plt.title(\"국내공연_나이대별 예매정보\")\n",
    "plt.show()"
   ]
  },
  {
   "cell_type": "markdown",
   "id": "988332fb",
   "metadata": {},
   "source": [
    "#### 내한 공연"
   ]
  },
  {
   "cell_type": "code",
   "execution_count": 12,
   "id": "996bb27a",
   "metadata": {
    "scrolled": true
   },
   "outputs": [
    {
     "data": {
      "image/png": "[encoded data removed]",
      "text/plain": [
       "<Figure size 1080x360 with 1 Axes>"
      ]
     },
     "metadata": {
      "needs_background": "light"
     },
     "output_type": "display_data"
    }
   ],
   "source": [
    "plt.figure(figsize=(15,5))\n",
    "sns.countplot(x='age', data=data_1, order=data_1['age'].unique().tolist().sort(key=lambda x: str(x)[:2]))\n",
    "plt.xlabel(\"나이대\")\n",
    "plt.ylabel(\"예매 건수\")\n",
    "plt.title(\"내한공연_나이대별 예매정보\")\n",
    "plt.show()"
   ]
  },
  {
   "cell_type": "markdown",
   "id": "7c5b4e32",
   "metadata": {},
   "source": [
    "### 성별(gender)"
   ]
  },
  {
   "cell_type": "markdown",
   "id": "e2faf765",
   "metadata": {},
   "source": [
    "#### 국내 공연"
   ]
  },
  {
   "cell_type": "code",
   "execution_count": 13,
   "id": "d1e57982",
   "metadata": {},
   "outputs": [
    {
     "data": {
      "image/png": "[encoded data removed]",
      "text/plain": [
       "<Figure size 216x216 with 1 Axes>"
      ]
     },
     "metadata": {},
     "output_type": "display_data"
    }
   ],
   "source": [
    "plt.figure(figsize=(3,3))\n",
    "grouped_0 = data_0.groupby('gender').size().reset_index(name='counts')\n",
    "plt.rc('font', size=12)\n",
    "\n",
    "# Plot the pie chart\n",
    "plt.pie(grouped_0['counts'], labels=grouped_0['gender'], autopct='%1.1f%%')\n",
    "plt.legend(grouped_0['gender'], loc='lower left')\n",
    "plt.axis('equal')\n",
    "plt.show()"
   ]
  },
  {
   "cell_type": "markdown",
   "id": "7b55efb3",
   "metadata": {},
   "source": [
    "#### 내한 공연"
   ]
  },
  {
   "cell_type": "code",
   "execution_count": 14,
   "id": "7df80e7d",
   "metadata": {},
   "outputs": [
    {
     "data": {
      "image/png": "[encoded data removed]",
      "text/plain": [
       "<Figure size 216x216 with 1 Axes>"
      ]
     },
     "metadata": {},
     "output_type": "display_data"
    }
   ],
   "source": [
    "plt.figure(figsize=(3,3))\n",
    "grouped_1 = data_1.groupby('gender').size().reset_index(name='counts')\n",
    "plt.rc('font', size=12)\n",
    "\n",
    "# Plot the pie chart\n",
    "plt.pie(grouped_1['counts'], labels=grouped_1['gender'], autopct='%1.1f%%')\n",
    "plt.legend(grouped_1['gender'], loc='lower left')\n",
    "plt.axis('equal')\n",
    "plt.show()"
   ]
  },
  {
   "cell_type": "markdown",
   "id": "78adbb43",
   "metadata": {},
   "source": [
    "### membership_type_1\n",
    "+ 유의미한 차이 X"
   ]
  },
  {
   "cell_type": "markdown",
   "id": "97d101fe",
   "metadata": {},
   "source": [
    "#### 국내 공연"
   ]
  },
  {
   "cell_type": "code",
   "execution_count": 15,
   "id": "86048790",
   "metadata": {},
   "outputs": [
    {
     "data": {
      "image/png": "[encoded data removed]",
      "text/plain": [
       "<Figure size 216x216 with 1 Axes>"
      ]
     },
     "metadata": {},
     "output_type": "display_data"
    }
   ],
   "source": [
    "plt.figure(figsize=(3,3))\n",
    "grouped_0 = data_0.groupby('membership_type_1').size().reset_index(name='counts')\n",
    "plt.rc('font', size=12)\n",
    "\n",
    "# Plot the pie chart\n",
    "plt.pie(grouped_0['counts'], labels=grouped_0['membership_type_1'], autopct='%1.1f%%')\n",
    "plt.legend(grouped_0['membership_type_1'], loc='lower left')\n",
    "plt.axis('equal')\n",
    "plt.show()"
   ]
  },
  {
   "cell_type": "markdown",
   "id": "c27517c5",
   "metadata": {},
   "source": [
    "#### 내한 공연"
   ]
  },
  {
   "cell_type": "code",
   "execution_count": 16,
   "id": "0e0e48f6",
   "metadata": {},
   "outputs": [
    {
     "data": {
      "image/png": "[encoded data removed]",
      "text/plain": [
       "<Figure size 216x216 with 1 Axes>"
      ]
     },
     "metadata": {},
     "output_type": "display_data"
    }
   ],
   "source": [
    "plt.figure(figsize=(3,3))\n",
    "grouped_1 = data_1.groupby('membership_type_1').size().reset_index(name='counts')\n",
    "plt.rc('font', size=12)\n",
    "\n",
    "# Plot the pie chart\n",
    "plt.pie(grouped_1['counts'], labels=grouped_1['membership_type_1'], autopct='%1.1f%%')\n",
    "plt.legend(grouped_1['membership_type_1'], loc='lower left')\n",
    "plt.axis('equal')\n",
    "plt.show()"
   ]
  },
  {
   "cell_type": "markdown",
   "id": "31df9a39",
   "metadata": {},
   "source": [
    "### membership_type_2\n",
    "+ 유의미한 차이 X"
   ]
  },
  {
   "cell_type": "markdown",
   "id": "f5ee1a23",
   "metadata": {},
   "source": [
    "#### 국내 공연"
   ]
  },
  {
   "cell_type": "code",
   "execution_count": 17,
   "id": "f3b4c51b",
   "metadata": {},
   "outputs": [
    {
     "data": {
      "image/png": "[encoded data removed]",
      "text/plain": [
       "<Figure size 216x216 with 1 Axes>"
      ]
     },
     "metadata": {},
     "output_type": "display_data"
    }
   ],
   "source": [
    "plt.figure(figsize=(3,3))\n",
    "grouped_0 = data_0.groupby('membership_type_2').size().reset_index(name='counts')\n",
    "plt.rc('font', size=12)\n",
    "\n",
    "# Plot the pie chart\n",
    "plt.pie(grouped_0['counts'], labels=grouped_0['membership_type_2'], autopct='%1.1f%%')\n",
    "plt.legend(grouped_0['membership_type_2'], loc='lower left')\n",
    "plt.axis('equal')\n",
    "plt.show()"
   ]
  },
  {
   "cell_type": "markdown",
   "id": "d4ceff6d",
   "metadata": {},
   "source": [
    "#### 내한 공연"
   ]
  },
  {
   "cell_type": "code",
   "execution_count": 18,
   "id": "4ed47f35",
   "metadata": {},
   "outputs": [
    {
     "data": {
      "image/png": "[encoded data removed]",
      "text/plain": [
       "<Figure size 216x216 with 1 Axes>"
      ]
     },
     "metadata": {},
     "output_type": "display_data"
    }
   ],
   "source": [
    "plt.figure(figsize=(3,3))\n",
    "grouped_1 = data_1.groupby('membership_type_2').size().reset_index(name='counts')\n",
    "plt.rc('font', size=12)\n",
    "\n",
    "# Plot the pie chart\n",
    "plt.pie(grouped_1['counts'], labels=grouped_1['membership_type_2'], autopct='%1.1f%%')\n",
    "plt.legend(grouped_1['membership_type_2'], loc='lower left')\n",
    "plt.axis('equal')\n",
    "plt.show()"
   ]
  },
  {
   "cell_type": "markdown",
   "id": "7cdc8b60",
   "metadata": {},
   "source": [
    "### membership_type_3\n",
    "+ 유의미한 차이 X"
   ]
  },
  {
   "cell_type": "markdown",
   "id": "c728f160",
   "metadata": {},
   "source": [
    "#### 국내 공연"
   ]
  },
  {
   "cell_type": "code",
   "execution_count": 19,
   "id": "ffa4d3ac",
   "metadata": {
    "scrolled": true
   },
   "outputs": [
    {
     "data": {
      "image/png": "[encoded data removed]",
      "text/plain": [
       "<Figure size 216x216 with 1 Axes>"
      ]
     },
     "metadata": {},
     "output_type": "display_data"
    }
   ],
   "source": [
    "plt.figure(figsize=(3,3))\n",
    "grouped_0 = data_0.groupby('membership_type_3').size().reset_index(name='counts')\n",
    "plt.rc('font', size=12)\n",
    "\n",
    "# Plot the pie chart\n",
    "plt.pie(grouped_0['counts'], labels=grouped_0['membership_type_3'], autopct='%1.1f%%')\n",
    "plt.legend(grouped_0['membership_type_3'], loc='lower left')\n",
    "plt.axis('equal')\n",
    "plt.show()"
   ]
  },
  {
   "cell_type": "markdown",
   "id": "798c43b5",
   "metadata": {},
   "source": [
    "#### 내한 공연"
   ]
  },
  {
   "cell_type": "code",
   "execution_count": 20,
   "id": "6f0558bc",
   "metadata": {},
   "outputs": [
    {
     "data": {
      "image/png": "[encoded data removed]",
      "text/plain": [
       "<Figure size 216x216 with 1 Axes>"
      ]
     },
     "metadata": {},
     "output_type": "display_data"
    }
   ],
   "source": [
    "plt.figure(figsize=(3,3))\n",
    "grouped_1 = data_1.groupby('membership_type_3').size().reset_index(name='counts')\n",
    "plt.rc('font', size=12)\n",
    "\n",
    "# Plot the pie chart\n",
    "plt.pie(grouped_1['counts'], labels=grouped_1['membership_type_3'], autopct='%1.1f%%')\n",
    "plt.legend(grouped_1['membership_type_3'], loc='lower left')\n",
    "plt.axis('equal')\n",
    "plt.show()"
   ]
  },
  {
   "cell_type": "markdown",
   "id": "cc11f11c",
   "metadata": {},
   "source": [
    "### 가격(price)"
   ]
  },
  {
   "cell_type": "code",
   "execution_count": 21,
   "id": "951d4a53",
   "metadata": {},
   "outputs": [
    {
     "name": "stdout",
     "output_type": "stream",
     "text": [
      "국내 공연 평균 : 31024.49443329356, 내한 공연 평균: 29179.878134192462\n"
     ]
    }
   ],
   "source": [
    "print(f\"국내 공연 평균 : {data_0['price'].mean()}, 내한 공연 평균: {data_1['price'].mean()}\")"
   ]
  },
  {
   "cell_type": "code",
   "execution_count": 25,
   "id": "92a47c76",
   "metadata": {},
   "outputs": [
    {
     "data": {
      "text/plain": [
       "348280"
      ]
     },
     "execution_count": 25,
     "metadata": {},
     "output_type": "execute_result"
    }
   ],
   "source": [
    "data_0['price'].value_counts()[0]"
   ]
  },
  {
   "cell_type": "code",
   "execution_count": 26,
   "id": "87713131",
   "metadata": {},
   "outputs": [
    {
     "data": {
      "text/plain": [
       "66994.1444350495"
      ]
     },
     "execution_count": 26,
     "metadata": {},
     "output_type": "execute_result"
    }
   ],
   "source": [
    "sum(data_0['price']) / (data_0['price'].count() - data_0['price'].value_counts()[0])"
   ]
  },
  {
   "cell_type": "code",
   "execution_count": 27,
   "id": "99c9da75",
   "metadata": {},
   "outputs": [
    {
     "data": {
      "text/plain": [
       "54751.33714435902"
      ]
     },
     "execution_count": 27,
     "metadata": {},
     "output_type": "execute_result"
    }
   ],
   "source": [
    "sum(data_1['price']) / (data_1['price'].count() - data_1['price'].value_counts()[0])"
   ]
  },
  {
   "cell_type": "code",
   "execution_count": 28,
   "id": "1a62a162",
   "metadata": {},
   "outputs": [
    {
     "data": {
      "text/plain": [
       "(480000, 330000)"
      ]
     },
     "execution_count": 28,
     "metadata": {},
     "output_type": "execute_result"
    }
   ],
   "source": [
    "data_0['price'].max(), data_1['price'].max(), "
   ]
  },
  {
   "cell_type": "code",
   "execution_count": 29,
   "id": "4d0f2b75",
   "metadata": {},
   "outputs": [
    {
     "data": {
      "text/plain": [
       "(0, 0)"
      ]
     },
     "execution_count": 29,
     "metadata": {},
     "output_type": "execute_result"
    }
   ],
   "source": [
    "data_0['price'].min(), data_1['price'].min(), "
   ]
  },
  {
   "cell_type": "code",
   "execution_count": 31,
   "id": "b1eb444f",
   "metadata": {},
   "outputs": [
    {
     "data": {
      "text/plain": [
       "0        66685\n",
       "10000     8863\n",
       "30000     5164\n",
       "15000     3962\n",
       "50000     3758\n",
       "         ...  \n",
       "79000        5\n",
       "17000        4\n",
       "1000         4\n",
       "92000        1\n",
       "67000        1\n",
       "Name: price, Length: 120, dtype: int64"
      ]
     },
     "execution_count": 31,
     "metadata": {},
     "output_type": "execute_result"
    }
   ],
   "source": [
    "data_1['price'].value_counts()"
   ]
  },
  {
   "cell_type": "code",
   "execution_count": 29,
   "id": "77a3c2fa",
   "metadata": {
    "scrolled": true
   },
   "outputs": [
    {
     "data": {
      "text/plain": [
       "0         348280\n",
       "10000      25320\n",
       "30000      15246\n",
       "50000      12439\n",
       "40000      10650\n",
       "           ...  \n",
       "272000         4\n",
       "119000         3\n",
       "195000         3\n",
       "106000         3\n",
       "11000          1\n",
       "Name: price, Length: 191, dtype: int64"
      ]
     },
     "execution_count": 29,
     "metadata": {},
     "output_type": "execute_result"
    }
   ],
   "source": [
    "data_0['price'].value_counts()"
   ]
  },
  {
   "cell_type": "markdown",
   "id": "0ce76da0",
   "metadata": {},
   "source": [
    "#### 국내 공연"
   ]
  },
  {
   "cell_type": "code",
   "execution_count": 28,
   "id": "9483dec8",
   "metadata": {},
   "outputs": [
    {
     "data": {
      "image/png": "[encoded data removed]",
      "text/plain": [
       "<Figure size 1080x360 with 1 Axes>"
      ]
     },
     "metadata": {
      "needs_background": "light"
     },
     "output_type": "display_data"
    }
   ],
   "source": [
    "plt.figure(figsize=(15,5))\n",
    "sns.countplot(x='price', data=data_0, order=data_0['price'].unique().tolist().sort(key=lambda x: str(x)[:3]))\n",
    "plt.xlabel(\"가격대\")\n",
    "plt.ylabel(\"예매 건수\")\n",
    "plt.title(\"국내공연_가격대별 예매정보\")\n",
    "plt.show()"
   ]
  },
  {
   "cell_type": "markdown",
   "id": "e6770aa1",
   "metadata": {},
   "source": [
    "#### 내한 공연"
   ]
  },
  {
   "cell_type": "code",
   "execution_count": 36,
   "id": "c41d7c51",
   "metadata": {},
   "outputs": [
    {
     "data": {
      "image/png": "[encoded data removed]",
      "text/plain": [
       "<Figure size 1080x360 with 1 Axes>"
      ]
     },
     "metadata": {
      "needs_background": "light"
     },
     "output_type": "display_data"
    }
   ],
   "source": [
    "plt.figure(figsize=(15,5))\n",
    "sns.countplot(x='price', data=data_1, order=data_1['price'].unique().tolist().sort(key=lambda x: str(x)[:3]))\n",
    "plt.xlabel(\"가격대\")\n",
    "plt.ylabel(\"예매 건수\")\n",
    "plt.title(\"내한공연_가격대별 예매정보\")\n",
    "plt.show()"
   ]
  },
  {
   "cell_type": "markdown",
   "id": "2f78e47f",
   "metadata": {},
   "source": [
    "### 예매 취소(ticket_cancel)"
   ]
  },
  {
   "cell_type": "markdown",
   "id": "22664f8d",
   "metadata": {},
   "source": [
    "#### 국내 공연"
   ]
  },
  {
   "cell_type": "code",
   "execution_count": 25,
   "id": "c1081560",
   "metadata": {},
   "outputs": [
    {
     "data": {
      "image/png": "[encoded data removed]",
      "text/plain": [
       "<Figure size 216x216 with 1 Axes>"
      ]
     },
     "metadata": {},
     "output_type": "display_data"
    }
   ],
   "source": [
    "plt.figure(figsize=(3,3))\n",
    "grouped_0 = data_0.groupby('ticket_cancel').size().reset_index(name='counts')\n",
    "plt.rc('font', size=12)\n",
    "\n",
    "# Plot the pie chart\n",
    "plt.pie(grouped_0['counts'], labels=grouped_0['ticket_cancel'], autopct='%1.1f%%')\n",
    "plt.legend(grouped_0['ticket_cancel'], loc='lower left')\n",
    "plt.axis('equal')\n",
    "plt.show()"
   ]
  },
  {
   "cell_type": "markdown",
   "id": "c0fc0678",
   "metadata": {},
   "source": [
    "#### 내한 공연"
   ]
  },
  {
   "cell_type": "code",
   "execution_count": 26,
   "id": "869c771e",
   "metadata": {},
   "outputs": [
    {
     "data": {
      "image/png": "[encoded data removed]",
      "text/plain": [
       "<Figure size 216x216 with 1 Axes>"
      ]
     },
     "metadata": {},
     "output_type": "display_data"
    }
   ],
   "source": [
    "plt.figure(figsize=(3,3))\n",
    "grouped_1 = data_1.groupby('ticket_cancel').size().reset_index(name='counts')\n",
    "plt.rc('font', size=12)\n",
    "\n",
    "# Plot the pie chart\n",
    "plt.pie(grouped_1['counts'], labels=grouped_1['ticket_cancel'], autopct='%1.1f%%')\n",
    "plt.legend(grouped_1['ticket_cancel'], loc='lower left')\n",
    "plt.axis('equal')\n",
    "plt.show()"
   ]
  },
  {
   "cell_type": "code",
   "execution_count": null,
   "id": "d48e98e3",
   "metadata": {},
   "outputs": [],
   "source": []
  }
 ],
 "metadata": {
  "kernelspec": {
   "display_name": "Python 3 (ipykernel)",
   "language": "python",
   "name": "python3"
  },
  "language_info": {
   "codemirror_mode": {
    "name": "ipython",
    "version": 3
   },
   "file_extension": ".py",
   "mimetype": "text/x-python",
   "name": "python",
   "nbconvert_exporter": "python",
   "pygments_lexer": "ipython3",
   "version": "3.9.12"
  }
 },
 "nbformat": 4,
 "nbformat_minor": 5
}
