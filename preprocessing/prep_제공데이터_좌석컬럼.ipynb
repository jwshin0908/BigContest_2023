{
  "nbformat": 4,
  "nbformat_minor": 0,
  "metadata": {
    "colab": {
      "provenance": []
    },
    "kernelspec": {
      "name": "python3",
      "display_name": "Python 3"
    },
    "language_info": {
      "name": "python"
    }
  },
  "cells": [
    {
      "cell_type": "code",
      "source": [
        "from google.colab import drive\n",
        "drive.mount('/content/drive')"
      ],
      "metadata": {
        "colab": {
          "base_uri": "https://localhost:8080/"
        },
        "id": "OS5c-56zjzT6",
        "outputId": "52efeed8-bbdb-4587-9155-7a866c627629"
      },
      "execution_count": null,
      "outputs": [
        {
          "output_type": "stream",
          "name": "stdout",
          "text": [
            "Drive already mounted at /content/drive; to attempt to forcibly remount, call drive.mount(\"/content/drive\", force_remount=True).\n"
          ]
        }
      ]
    },
    {
      "cell_type": "code",
      "source": [
        "%pwd"
      ],
      "metadata": {
        "colab": {
          "base_uri": "https://localhost:8080/",
          "height": 34
        },
        "id": "sDgeCa1UQDLc",
        "outputId": "1576f873-92d4-4e70-945d-653f39e86924"
      },
      "execution_count": null,
      "outputs": [
        {
          "output_type": "execute_result",
          "data": {
            "text/plain": [
              "'/content'"
            ],
            "application/vnd.google.colaboratory.intrinsic+json": {
              "type": "string"
            }
          },
          "metadata": {},
          "execution_count": 2
        }
      ]
    },
    {
      "cell_type": "code",
      "execution_count": null,
      "metadata": {
        "id": "q61VuYOVPIGF"
      },
      "outputs": [],
      "source": [
        "import pandas as pd"
      ]
    },
    {
      "cell_type": "code",
      "source": [
        "df = pd.read_csv('/content/drive/MyDrive/2023빅콘/data/2023빅콘테스트_어드밴스드리그_예술의전당.csv')"
      ],
      "metadata": {
        "id": "NQm9c95XP_YX"
      },
      "execution_count": null,
      "outputs": []
    },
    {
      "cell_type": "code",
      "source": [
        "df.columns"
      ],
      "metadata": {
        "colab": {
          "base_uri": "https://localhost:8080/"
        },
        "id": "psy0qsk_TbKw",
        "outputId": "377d7206-88a6-4f18-fc70-ced467475cf5"
      },
      "execution_count": null,
      "outputs": [
        {
          "output_type": "execute_result",
          "data": {
            "text/plain": [
              "Index(['age', 'gender', 'membership_type_1', 'membership_type_2',\n",
              "       'membership_type_3', 'membership_type_4', 'membership_type_5',\n",
              "       'membership_type_6', 'tran_date', 'tran_time', 'play_date',\n",
              "       'play_st_time', 'seat', 'price', 'ticket_cancel', 'discount_type',\n",
              "       'performance_code', 'pre_open_date', 'open_date', 'genre', 'place',\n",
              "       'running_time', 'intermission', 'member_yn'],\n",
              "      dtype='object')"
            ]
          },
          "metadata": {},
          "execution_count": 5
        }
      ]
    },
    {
      "cell_type": "code",
      "source": [
        "df.head(3)"
      ],
      "metadata": {
        "colab": {
          "base_uri": "https://localhost:8080/",
          "height": 280
        },
        "id": "i8n3hVeCqEyu",
        "outputId": "343f591d-eaf0-41d9-c56b-d5925cfba2c0"
      },
      "execution_count": null,
      "outputs": [
        {
          "output_type": "execute_result",
          "data": {
            "text/plain": [
              "    age gender membership_type_1 membership_type_2 membership_type_3  \\\n",
              "0  50.0      F                골드                무료                그린   \n",
              "1   NaN    NaN               NaN               NaN               NaN   \n",
              "2   NaN    NaN               NaN               NaN               NaN   \n",
              "\n",
              "  membership_type_4 membership_type_5  membership_type_6  tran_date  \\\n",
              "0               NaN               NaN                NaN   20220114   \n",
              "1               NaN               NaN                NaN   20211003   \n",
              "2               NaN               NaN                NaN   20220917   \n",
              "\n",
              "   tran_time  ...  ticket_cancel  discount_type performance_code  \\\n",
              "0       1512  ...              2             일반              302   \n",
              "1       1550  ...              0            초대권             1120   \n",
              "2       1520  ...              0            초대권             2283   \n",
              "\n",
              "   pre_open_date   open_date genre   place  running_time  intermission  \\\n",
              "0     20220114.0  20220115.0   교향곡    콘서트홀           120            15   \n",
              "1            NaN  20210823.0    독주   리사이틀홀            90            15   \n",
              "2     20220911.0  20220911.0    독주  IBK챔버홀            80            15   \n",
              "\n",
              "  member_yn  \n",
              "0         Y  \n",
              "1         N  \n",
              "2         N  \n",
              "\n",
              "[3 rows x 24 columns]"
            ],
            "text/html": [
              "\n",
              "  <div id=\"df-4abb1639-3602-4901-8207-b9e382777200\" class=\"colab-df-container\">\n",
              "    <div>\n",
              "<style scoped>\n",
              "    .dataframe tbody tr th:only-of-type {\n",
              "        vertical-align: middle;\n",
              "    }\n",
              "\n",
              "    .dataframe tbody tr th {\n",
              "        vertical-align: top;\n",
              "    }\n",
              "\n",
              "    .dataframe thead th {\n",
              "        text-align: right;\n",
              "    }\n",
              "</style>\n",
              "<table border=\"1\" class=\"dataframe\">\n",
              "  <thead>\n",
              "    <tr style=\"text-align: right;\">\n",
              "      <th></th>\n",
              "      <th>age</th>\n",
              "      <th>gender</th>\n",
              "      <th>membership_type_1</th>\n",
              "      <th>membership_type_2</th>\n",
              "      <th>membership_type_3</th>\n",
              "      <th>membership_type_4</th>\n",
              "      <th>membership_type_5</th>\n",
              "      <th>membership_type_6</th>\n",
              "      <th>tran_date</th>\n",
              "      <th>tran_time</th>\n",
              "      <th>...</th>\n",
              "      <th>ticket_cancel</th>\n",
              "      <th>discount_type</th>\n",
              "      <th>performance_code</th>\n",
              "      <th>pre_open_date</th>\n",
              "      <th>open_date</th>\n",
              "      <th>genre</th>\n",
              "      <th>place</th>\n",
              "      <th>running_time</th>\n",
              "      <th>intermission</th>\n",
              "      <th>member_yn</th>\n",
              "    </tr>\n",
              "  </thead>\n",
              "  <tbody>\n",
              "    <tr>\n",
              "      <th>0</th>\n",
              "      <td>50.0</td>\n",
              "      <td>F</td>\n",
              "      <td>골드</td>\n",
              "      <td>무료</td>\n",
              "      <td>그린</td>\n",
              "      <td>NaN</td>\n",
              "      <td>NaN</td>\n",
              "      <td>NaN</td>\n",
              "      <td>20220114</td>\n",
              "      <td>1512</td>\n",
              "      <td>...</td>\n",
              "      <td>2</td>\n",
              "      <td>일반</td>\n",
              "      <td>302</td>\n",
              "      <td>20220114.0</td>\n",
              "      <td>20220115.0</td>\n",
              "      <td>교향곡</td>\n",
              "      <td>콘서트홀</td>\n",
              "      <td>120</td>\n",
              "      <td>15</td>\n",
              "      <td>Y</td>\n",
              "    </tr>\n",
              "    <tr>\n",
              "      <th>1</th>\n",
              "      <td>NaN</td>\n",
              "      <td>NaN</td>\n",
              "      <td>NaN</td>\n",
              "      <td>NaN</td>\n",
              "      <td>NaN</td>\n",
              "      <td>NaN</td>\n",
              "      <td>NaN</td>\n",
              "      <td>NaN</td>\n",
              "      <td>20211003</td>\n",
              "      <td>1550</td>\n",
              "      <td>...</td>\n",
              "      <td>0</td>\n",
              "      <td>초대권</td>\n",
              "      <td>1120</td>\n",
              "      <td>NaN</td>\n",
              "      <td>20210823.0</td>\n",
              "      <td>독주</td>\n",
              "      <td>리사이틀홀</td>\n",
              "      <td>90</td>\n",
              "      <td>15</td>\n",
              "      <td>N</td>\n",
              "    </tr>\n",
              "    <tr>\n",
              "      <th>2</th>\n",
              "      <td>NaN</td>\n",
              "      <td>NaN</td>\n",
              "      <td>NaN</td>\n",
              "      <td>NaN</td>\n",
              "      <td>NaN</td>\n",
              "      <td>NaN</td>\n",
              "      <td>NaN</td>\n",
              "      <td>NaN</td>\n",
              "      <td>20220917</td>\n",
              "      <td>1520</td>\n",
              "      <td>...</td>\n",
              "      <td>0</td>\n",
              "      <td>초대권</td>\n",
              "      <td>2283</td>\n",
              "      <td>20220911.0</td>\n",
              "      <td>20220911.0</td>\n",
              "      <td>독주</td>\n",
              "      <td>IBK챔버홀</td>\n",
              "      <td>80</td>\n",
              "      <td>15</td>\n",
              "      <td>N</td>\n",
              "    </tr>\n",
              "  </tbody>\n",
              "</table>\n",
              "<p>3 rows × 24 columns</p>\n",
              "</div>\n",
              "    <div class=\"colab-df-buttons\">\n",
              "\n",
              "  <div class=\"colab-df-container\">\n",
              "    <button class=\"colab-df-convert\" onclick=\"convertToInteractive('df-4abb1639-3602-4901-8207-b9e382777200')\"\n",
              "            title=\"Convert this dataframe to an interactive table.\"\n",
              "            style=\"display:none;\">\n",
              "\n",
              "  <svg xmlns=\"http://www.w3.org/2000/svg\" height=\"24px\" viewBox=\"0 -960 960 960\">\n",
              "    <path d=\"M120-120v-720h720v720H120Zm60-500h600v-160H180v160Zm220 220h160v-160H400v160Zm0 220h160v-160H400v160ZM180-400h160v-160H180v160Zm440 0h160v-160H620v160ZM180-180h160v-160H180v160Zm440 0h160v-160H620v160Z\"/>\n",
              "  </svg>\n",
              "    </button>\n",
              "\n",
              "  <style>\n",
              "    .colab-df-container {\n",
              "      display:flex;\n",
              "      gap: 12px;\n",
              "    }\n",
              "\n",
              "    .colab-df-convert {\n",
              "      background-color: #E8F0FE;\n",
              "      border: none;\n",
              "      border-radius: 50%;\n",
              "      cursor: pointer;\n",
              "      display: none;\n",
              "      fill: #1967D2;\n",
              "      height: 32px;\n",
              "      padding: 0 0 0 0;\n",
              "      width: 32px;\n",
              "    }\n",
              "\n",
              "    .colab-df-convert:hover {\n",
              "      background-color: #E2EBFA;\n",
              "      box-shadow: 0px 1px 2px rgba(60, 64, 67, 0.3), 0px 1px 3px 1px rgba(60, 64, 67, 0.15);\n",
              "      fill: #174EA6;\n",
              "    }\n",
              "\n",
              "    .colab-df-buttons div {\n",
              "      margin-bottom: 4px;\n",
              "    }\n",
              "\n",
              "    [theme=dark] .colab-df-convert {\n",
              "      background-color: #3B4455;\n",
              "      fill: #D2E3FC;\n",
              "    }\n",
              "\n",
              "    [theme=dark] .colab-df-convert:hover {\n",
              "      background-color: #434B5C;\n",
              "      box-shadow: 0px 1px 3px 1px rgba(0, 0, 0, 0.15);\n",
              "      filter: drop-shadow(0px 1px 2px rgba(0, 0, 0, 0.3));\n",
              "      fill: #FFFFFF;\n",
              "    }\n",
              "  </style>\n",
              "\n",
              "    <script>\n",
              "      const buttonEl =\n",
              "        document.querySelector('#df-4abb1639-3602-4901-8207-b9e382777200 button.colab-df-convert');\n",
              "      buttonEl.style.display =\n",
              "        google.colab.kernel.accessAllowed ? 'block' : 'none';\n",
              "\n",
              "      async function convertToInteractive(key) {\n",
              "        const element = document.querySelector('#df-4abb1639-3602-4901-8207-b9e382777200');\n",
              "        const dataTable =\n",
              "          await google.colab.kernel.invokeFunction('convertToInteractive',\n",
              "                                                    [key], {});\n",
              "        if (!dataTable) return;\n",
              "\n",
              "        const docLinkHtml = 'Like what you see? Visit the ' +\n",
              "          '<a target=\"_blank\" href=https://colab.research.google.com/notebooks/data_table.ipynb>data table notebook</a>'\n",
              "          + ' to learn more about interactive tables.';\n",
              "        element.innerHTML = '';\n",
              "        dataTable['output_type'] = 'display_data';\n",
              "        await google.colab.output.renderOutput(dataTable, element);\n",
              "        const docLink = document.createElement('div');\n",
              "        docLink.innerHTML = docLinkHtml;\n",
              "        element.appendChild(docLink);\n",
              "      }\n",
              "    </script>\n",
              "  </div>\n",
              "\n",
              "    </div>\n",
              "  </div>\n"
            ]
          },
          "metadata": {},
          "execution_count": 6
        }
      ]
    },
    {
      "cell_type": "markdown",
      "source": [
        "### genre"
      ],
      "metadata": {
        "id": "YqCpW0XlkRvI"
      }
    },
    {
      "cell_type": "code",
      "source": [
        "df[df['place'] == '콘서트홀']['genre'].unique()"
      ],
      "metadata": {
        "colab": {
          "base_uri": "https://localhost:8080/"
        },
        "id": "GZqGsEgJkJGC",
        "outputId": "064e539e-f8d1-441c-f76c-9881b271cfa1"
      },
      "execution_count": null,
      "outputs": [
        {
          "output_type": "execute_result",
          "data": {
            "text/plain": [
              "array(['교향곡', '독주', '클래식', '오페라', '합창', '성악', '실내악', '콘서트', nan, '복합장르',\n",
              "       '기타', '재즈', '크로스오버', '가족극'], dtype=object)"
            ]
          },
          "metadata": {},
          "execution_count": 106
        }
      ]
    },
    {
      "cell_type": "code",
      "source": [
        "genre_counts = df['genre'].value_counts()\n",
        "genre_counts"
      ],
      "metadata": {
        "colab": {
          "base_uri": "https://localhost:8080/"
        },
        "id": "7qnUMip5kRVY",
        "outputId": "9451b18f-ea3f-4459-b208-b24ddece6a6e"
      },
      "execution_count": null,
      "outputs": [
        {
          "output_type": "execute_result",
          "data": {
            "text/plain": [
              "교향곡      547382\n",
              "독주       434579\n",
              "실내악      339716\n",
              "클래식      305782\n",
              "합창       117683\n",
              "성악        80210\n",
              "콘서트       27112\n",
              "오페라       22613\n",
              "복합장르       9416\n",
              "기타         6452\n",
              "크로스오버      2211\n",
              "재즈         1325\n",
              "전시          266\n",
              "무용          155\n",
              "가족극         124\n",
              "Name: genre, dtype: int64"
            ]
          },
          "metadata": {},
          "execution_count": 8
        }
      ]
    },
    {
      "cell_type": "code",
      "source": [
        "df['place'].unique()"
      ],
      "metadata": {
        "colab": {
          "base_uri": "https://localhost:8080/"
        },
        "id": "CFZd11M5k-R8",
        "outputId": "b64e347f-cf4d-4bbd-b6fe-77450a9f6d1f"
      },
      "execution_count": null,
      "outputs": [
        {
          "output_type": "execute_result",
          "data": {
            "text/plain": [
              "array(['콘서트홀', '리사이틀홀', 'IBK챔버홀'], dtype=object)"
            ]
          },
          "metadata": {},
          "execution_count": 9
        }
      ]
    },
    {
      "cell_type": "code",
      "source": [
        "place_counts = df['place'].value_counts()\n",
        "place_counts"
      ],
      "metadata": {
        "colab": {
          "base_uri": "https://localhost:8080/"
        },
        "id": "MHJRXPNMnFxj",
        "outputId": "54d24803-c18f-4b1a-bbd1-2385405d9b0c"
      },
      "execution_count": null,
      "outputs": [
        {
          "output_type": "execute_result",
          "data": {
            "text/plain": [
              "콘서트홀      1096968\n",
              "IBK챔버홀     477410\n",
              "리사이틀홀      346490\n",
              "Name: place, dtype: int64"
            ]
          },
          "metadata": {},
          "execution_count": 10
        }
      ]
    },
    {
      "cell_type": "code",
      "source": [
        "concert_genre_counts = df[df['place'] == '콘서트홀']['genre'].value_counts()\n",
        "concert_genre_counts"
      ],
      "metadata": {
        "colab": {
          "base_uri": "https://localhost:8080/"
        },
        "id": "p_bYPXGFnJ2C",
        "outputId": "ea64a2b5-8c52-4878-f68f-191bf2fe3cb0"
      },
      "execution_count": null,
      "outputs": [
        {
          "output_type": "execute_result",
          "data": {
            "text/plain": [
              "교향곡      522271\n",
              "클래식      236966\n",
              "합창       112297\n",
              "독주        63503\n",
              "성악        40385\n",
              "실내악       34129\n",
              "콘서트       23918\n",
              "오페라       21707\n",
              "복합장르       8705\n",
              "기타         5843\n",
              "재즈         1080\n",
              "크로스오버       967\n",
              "가족극         124\n",
              "Name: genre, dtype: int64"
            ]
          },
          "metadata": {},
          "execution_count": 11
        }
      ]
    },
    {
      "cell_type": "code",
      "source": [
        "ibk_genre_counts = df[df['place'] == 'IBK챔버홀']['genre'].value_counts()\n",
        "ibk_genre_counts"
      ],
      "metadata": {
        "colab": {
          "base_uri": "https://localhost:8080/"
        },
        "id": "HBqHlwvWnmvG",
        "outputId": "9aece9d6-d5a9-452f-f140-1994f49e1435"
      },
      "execution_count": null,
      "outputs": [
        {
          "output_type": "execute_result",
          "data": {
            "text/plain": [
              "실내악      252623\n",
              "독주       106382\n",
              "클래식       57521\n",
              "성악        27368\n",
              "교향곡       21959\n",
              "합창         5386\n",
              "콘서트        2644\n",
              "오페라         906\n",
              "복합장르        711\n",
              "크로스오버       678\n",
              "재즈          245\n",
              "기타          218\n",
              "Name: genre, dtype: int64"
            ]
          },
          "metadata": {},
          "execution_count": 12
        }
      ]
    },
    {
      "cell_type": "code",
      "source": [
        "recytle_genre_counts = df[df['place'] == '리사이틀홀']['genre'].value_counts()\n",
        "recytle_genre_counts"
      ],
      "metadata": {
        "colab": {
          "base_uri": "https://localhost:8080/"
        },
        "id": "QVAaASqUogV4",
        "outputId": "783ca810-4777-4983-e7bd-2da1e2b8f72f"
      },
      "execution_count": null,
      "outputs": [
        {
          "output_type": "execute_result",
          "data": {
            "text/plain": [
              "독주       264694\n",
              "실내악       52964\n",
              "성악        12457\n",
              "클래식       11295\n",
              "교향곡        3152\n",
              "크로스오버       566\n",
              "콘서트         550\n",
              "기타          391\n",
              "전시          266\n",
              "무용          155\n",
              "Name: genre, dtype: int64"
            ]
          },
          "metadata": {},
          "execution_count": 13
        }
      ]
    },
    {
      "cell_type": "code",
      "source": [
        "genre_nan_counts = df[df['genre'].isna()]['place'].value_counts()\n",
        "genre_nan_counts"
      ],
      "metadata": {
        "colab": {
          "base_uri": "https://localhost:8080/"
        },
        "id": "oIq13Agvo1Zj",
        "outputId": "0b25b2db-7a15-46e7-942b-d4d439dc8352"
      },
      "execution_count": null,
      "outputs": [
        {
          "output_type": "execute_result",
          "data": {
            "text/plain": [
              "콘서트홀      25073\n",
              "IBK챔버홀      769\n",
              "Name: place, dtype: int64"
            ]
          },
          "metadata": {},
          "execution_count": 14
        }
      ]
    },
    {
      "cell_type": "code",
      "source": [
        "place_nan_counts = df[df['place'].isna()]['place'].value_counts()\n",
        "place_nan_counts"
      ],
      "metadata": {
        "colab": {
          "base_uri": "https://localhost:8080/"
        },
        "id": "kIOnAMiQpGmH",
        "outputId": "e07b14d1-632f-47fe-a99d-4b35021c74a2"
      },
      "execution_count": null,
      "outputs": [
        {
          "output_type": "execute_result",
          "data": {
            "text/plain": [
              "Series([], Name: place, dtype: int64)"
            ]
          },
          "metadata": {},
          "execution_count": 15
        }
      ]
    },
    {
      "cell_type": "code",
      "source": [
        "len(df[df['place'] == '콘서트홀']['seat'].unique())"
      ],
      "metadata": {
        "colab": {
          "base_uri": "https://localhost:8080/"
        },
        "id": "txLWaRamqnV_",
        "outputId": "8241c348-93d4-45eb-89f8-81d29b8023f0"
      },
      "execution_count": null,
      "outputs": [
        {
          "output_type": "execute_result",
          "data": {
            "text/plain": [
              "2509"
            ]
          },
          "metadata": {},
          "execution_count": 16
        }
      ]
    },
    {
      "cell_type": "code",
      "source": [
        "df[df['place'] == '콘서트홀']['seat'].unique()[:100]"
      ],
      "metadata": {
        "colab": {
          "base_uri": "https://localhost:8080/"
        },
        "id": "CEW3639Rv2G3",
        "outputId": "18c7ed64-d9a3-4699-f753-48e4bf8c2311"
      },
      "execution_count": null,
      "outputs": [
        {
          "output_type": "execute_result",
          "data": {
            "text/plain": [
              "array(['3층 BOX9 10', '1층 B블록12열 7', '1층 A블록2열 1', '3층 E블록4열 8',\n",
              "       '2층 D블록8열 4', '1층 C블록17열 3', '3층 BOX9 5', '3층 BOX12 3',\n",
              "       '2층 D블록8열 3', '1층 C블록2열 2', '2층 E블록3열 16', '2층 BOX2 2',\n",
              "       '1층 C블록20열 4', '1층 D블록10열 8', '1층 B블록7열 7', '3층 G블록5열 8',\n",
              "       '1층 B블록21열 9', '1층 B블록17열 4', '1층 D블록18열 6', '3층 M블록1열 2',\n",
              "       '1층 C블록15열 8', '1층 B블록3열 7', '3층 F블록5열 5', '1층 E블록17열 1',\n",
              "       '1층 D블록7열 11', '1층 D블록22열 3', '3층 G블록1열 5', '1층 C블록4열 6',\n",
              "       '1층 B블록7열 5', '1층 E블록19열 3', '3층 F블록4열 3', '1층 C블록6열 7',\n",
              "       '2층 C블록7열 7', '2층 A블록4열 7', '1층 A블록8열 1', '1층 B블록16열 6',\n",
              "       '1층 C블록1열 10', '3층 D블록7열 13', '1층 A블록15열 4', '1층 B블록14열 11',\n",
              "       '1층 C블록6열 13', '1층 A블록21열 5', '2층 E블록3열 13', '1층 B블록18열 11',\n",
              "       '1층 D블록13열 3', '3층 G블록3열 2', '1층 B블록13열 11', '합창석 G블록2열 24',\n",
              "       '1층 C블록1열 4', '2층 E블록2열 4', '1층 E블록6열 2', '3층 F블록6열 6',\n",
              "       '3층 BOX11 5', '1층 C블록19열 8', '3층 D블록7열 3', '1층 A블록11열 7',\n",
              "       '1층 C블록8열 4', '1층 E블록17열 10', '1층 D블록12열 2', '1층 D블록5열 10',\n",
              "       '1층 E블록15열 5', '2층 B블록1열 4', '1층 D블록12열 5', '1층 D블록21열 5',\n",
              "       '2층 E블록6열 13', '1층 C블록12열 3', '1층 C블록12열 10', '1층 C블록3열 6',\n",
              "       '3층 E블록7열 10', '3층 E블록5열 3', '1층 D블록6열 1', '2층 E블록4열 6',\n",
              "       '1층 A블록16열 8', '1층 E블록18열 3', '1층 C블록2열 6', '3층 A블록4열 14',\n",
              "       '2층 A블록5열 6', '2층 E블록2열 3', '1층 B블록19열 12', '2층 B블록1열 9',\n",
              "       '2층 BOX3 3', '1층 E블록21열 5', '3층 BOX11 8', '1층 C블록5열 5',\n",
              "       '1층 D블록9열 5', '1층 D블록9열 2', '1층 A블록1열 7', '1층 C블록19열 4',\n",
              "       '1층 D블록15열 11', '1층 E블록22열 6', '3층 G블록6열 4', '2층 E블록3열 18',\n",
              "       '2층 B블록3열 8', '3층 A블록3열 3', '1층 E블록13열 2', '1층 D블록11열 12',\n",
              "       '1층 C블록14열 8', '1층 C블록4열 10', '1층 A블록21열 2', '1층 B블록21열 11'],\n",
              "      dtype=object)"
            ]
          },
          "metadata": {},
          "execution_count": 17
        }
      ]
    },
    {
      "cell_type": "code",
      "source": [
        "df[df['place'] == '콘서트홀']['seat'].value_counts()"
      ],
      "metadata": {
        "colab": {
          "base_uri": "https://localhost:8080/"
        },
        "id": "QbGaF-nppd8_",
        "outputId": "7655c7bb-febb-4c86-96b7-b70bae808c4e"
      },
      "execution_count": null,
      "outputs": [
        {
          "output_type": "execute_result",
          "data": {
            "text/plain": [
              "1층 C블록13열 1    830\n",
              "1층 C블록4열 2     815\n",
              "1층 C블록4열 8     788\n",
              "1층 C블록4열 4     782\n",
              "1층 C블록2열 6     775\n",
              "              ... \n",
              "1층 C블록22열 6     24\n",
              "2층 A블록8열 13      8\n",
              "2층 E블록8열 13      8\n",
              "2층 A블록8열 12      8\n",
              "2층 E블록8열 12      6\n",
              "Name: seat, Length: 2509, dtype: int64"
            ]
          },
          "metadata": {},
          "execution_count": 18
        }
      ]
    },
    {
      "cell_type": "code",
      "source": [
        "df[df['place'] == 'IBK챔버홀']['seat'].value_counts()"
      ],
      "metadata": {
        "colab": {
          "base_uri": "https://localhost:8080/"
        },
        "id": "VzOGyoRaq0AU",
        "outputId": "2fee4cf3-b11e-4c1c-b14a-58d743d8f87e"
      },
      "execution_count": null,
      "outputs": [
        {
          "output_type": "execute_result",
          "data": {
            "text/plain": [
              "1층 B블록 10열 1    1329\n",
              "2층 A블록 1열 13    1179\n",
              "1층 B블록 10열 4    1110\n",
              "1층 B블록 10열 2    1105\n",
              "1층 B블록 4열 8     1097\n",
              "                ... \n",
              "1층 C블록 17열 2     176\n",
              "1층 C블록 17열 1     167\n",
              "1층 A블록 17열 3     113\n",
              "1층 A블록 17열 2      68\n",
              "1층 A블록 17열 1      51\n",
              "Name: seat, Length: 600, dtype: int64"
            ]
          },
          "metadata": {},
          "execution_count": 19
        }
      ]
    },
    {
      "cell_type": "code",
      "source": [
        "df[df['place'] == '콘서트홀']['seat'].value_counts()[:50]"
      ],
      "metadata": {
        "colab": {
          "base_uri": "https://localhost:8080/"
        },
        "id": "NjCL8_B7xJc5",
        "outputId": "ebc99809-3359-4643-fe62-33ec2a1e67bd"
      },
      "execution_count": null,
      "outputs": [
        {
          "output_type": "execute_result",
          "data": {
            "text/plain": [
              "1층 C블록13열 1     830\n",
              "1층 C블록4열 2      815\n",
              "1층 C블록4열 8      788\n",
              "1층 C블록4열 4      782\n",
              "1층 C블록2열 6      775\n",
              "1층 C블록5열 11     763\n",
              "1층 C블록3열 5      757\n",
              "1층 C블록3열 7      751\n",
              "1층 C블록4열 6      748\n",
              "1층 C블록2열 8      744\n",
              "1층 B블록15열 13    743\n",
              "1층 C블록1열 9      742\n",
              "1층 B블록3열 10     740\n",
              "1층 C블록5열 5      739\n",
              "1층 A블록15열 12    739\n",
              "1층 C블록1열 7      737\n",
              "1층 C블록3열 9      733\n",
              "1층 A블록15열 9     730\n",
              "1층 A블록15열 10    728\n",
              "1층 A블록15열 11    727\n",
              "1층 B블록15열 12    725\n",
              "1층 B블록3열 7      724\n",
              "1층 C블록3열 1      722\n",
              "1층 C블록13열 2     721\n",
              "1층 B블록1열 9      721\n",
              "1층 C블록13열 4     720\n",
              "1층 C블록13열 3     719\n",
              "1층 C블록2열 4      719\n",
              "1층 C블록4열 10     715\n",
              "1층 C블록1열 11     713\n",
              "2층 C블록7열 12     711\n",
              "1층 C블록4열 12     711\n",
              "2층 C블록7열 13     711\n",
              "1층 C블록1열 1      711\n",
              "2층 C블록7열 1      711\n",
              "2층 C블록7열 2      710\n",
              "1층 C블록6열 3      710\n",
              "1층 B블록3열 9      708\n",
              "1층 C블록4열 1      707\n",
              "1층 C블록1열 5      707\n",
              "2층 BOX1 1       707\n",
              "1층 C블록5열 9      705\n",
              "1층 C블록5열 3      702\n",
              "1층 D블록3열 1      700\n",
              "1층 C블록3열 3      699\n",
              "1층 C블록3열 11     696\n",
              "1층 C블록6열 2      694\n",
              "1층 B블록4열 10     692\n",
              "1층 C블록5열 7      690\n",
              "1층 C블록6열 6      689\n",
              "Name: seat, dtype: int64"
            ]
          },
          "metadata": {},
          "execution_count": 20
        }
      ]
    },
    {
      "cell_type": "code",
      "source": [
        "df[df['place'] == '콘서트홀']['seat'].value_counts()"
      ],
      "metadata": {
        "id": "MeyMxc2C0pKZ",
        "colab": {
          "base_uri": "https://localhost:8080/"
        },
        "outputId": "dae195b7-62fc-4297-b935-5647e4112d6d"
      },
      "execution_count": null,
      "outputs": [
        {
          "output_type": "execute_result",
          "data": {
            "text/plain": [
              "1층 C블록13열 1    830\n",
              "1층 C블록4열 2     815\n",
              "1층 C블록4열 8     788\n",
              "1층 C블록4열 4     782\n",
              "1층 C블록2열 6     775\n",
              "              ... \n",
              "1층 C블록22열 6     24\n",
              "2층 A블록8열 13      8\n",
              "2층 E블록8열 13      8\n",
              "2층 A블록8열 12      8\n",
              "2층 E블록8열 12      6\n",
              "Name: seat, Length: 2509, dtype: int64"
            ]
          },
          "metadata": {},
          "execution_count": 21
        }
      ]
    },
    {
      "cell_type": "code",
      "source": [
        "df[df['place'] == '콘서트홀'].groupby('genre').apply(lambda x: x['seat'].value_counts().nlargest(3))"
      ],
      "metadata": {
        "colab": {
          "base_uri": "https://localhost:8080/"
        },
        "id": "uov3NakpVzfT",
        "outputId": "856fcf88-ff77-4719-8950-ee6262cd4b36"
      },
      "execution_count": null,
      "outputs": [
        {
          "output_type": "execute_result",
          "data": {
            "text/plain": [
              "genre              \n",
              "가족극    1층 C블록10열 2       3\n",
              "       1층 C블록15열 3       2\n",
              "       1층 C블록11열 8       2\n",
              "교향곡    1층 C블록4열 2      416\n",
              "       1층 C블록2열 6      414\n",
              "       1층 C블록13열 1     412\n",
              "기타     1층 D블록4열 10       5\n",
              "       1층 B블록10열 11      4\n",
              "       1층 B블록11열 6       4\n",
              "독주     1층 B블록7열 10      63\n",
              "       2층 BOX3 1        62\n",
              "       1층 C블록2열 10      61\n",
              "복합장르   1층 D블록5열 2       16\n",
              "       1층 C블록12열 6      14\n",
              "       1층 B블록11열 12     14\n",
              "성악     1층 B블록1열 9       38\n",
              "       1층 C블록2열 4       37\n",
              "       1층 C블록1열 6       35\n",
              "실내악    1층 C블록6열 8       49\n",
              "       1층 C블록5열 11      48\n",
              "       1층 C블록4열 4       46\n",
              "오페라    1층 C블록8열 10      25\n",
              "       1층 C블록6열 2       22\n",
              "       1층 C블록8열 12      22\n",
              "재즈     1층 B블록14열 12      4\n",
              "       2층 BOX2 1         4\n",
              "       2층 BOX2 2         4\n",
              "콘서트    1층 E블록1열 7       26\n",
              "       1층 D블록11열 7      23\n",
              "       1층 D블록14열 6      23\n",
              "크로스오버  3층 A블록5열 3        4\n",
              "       3층 A블록4열 4        4\n",
              "       3층 A블록4열 5        3\n",
              "클래식    2층 BOX3 1       186\n",
              "       1층 C블록1열 9      175\n",
              "       1층 C블록13열 1     174\n",
              "합창     1층 C블록6열 9       78\n",
              "       1층 C블록13열 1      78\n",
              "       1층 D블록5열 1       78\n",
              "Name: seat, dtype: int64"
            ]
          },
          "metadata": {},
          "execution_count": 31
        }
      ]
    },
    {
      "cell_type": "code",
      "source": [
        "df[df['place'] == '콘서트홀'][['tran_date', 'tran_time', 'play_date', 'play_st_time', 'pre_open_date', 'open_date']]"
      ],
      "metadata": {
        "id": "-jThaK-OW0Nn"
      },
      "execution_count": null,
      "outputs": []
    },
    {
      "cell_type": "code",
      "source": [
        "# 날짜 컬럼들을 datetime 객체로 변환\n",
        "df['pre_open_date'] = pd.to_datetime(df['pre_open_date'])\n",
        "df['open_date'] = pd.to_datetime(df['open_date'])\n",
        "df['tran_date'] = pd.to_datetime(df['tran_date'])\n",
        "\n",
        "# 조건에 따라 연산을 적용하여 새로운 컬럼 'date_diff' 생성\n",
        "df['date_diff'] = df.apply(lambda row: (row['tran_date'] - row['open_date']).days if row['tran_date'] > row['open_date'] else (row['tran_date'] - row['pre_open_date']).days, axis=1)"
      ],
      "metadata": {
        "id": "cvzkBaXYaTWQ"
      },
      "execution_count": null,
      "outputs": []
    },
    {
      "cell_type": "code",
      "source": [
        "df[df['place'] == '콘서트홀']['ticket_cancel'].unique()"
      ],
      "metadata": {
        "colab": {
          "base_uri": "https://localhost:8080/"
        },
        "id": "20hYTBuebcGs",
        "outputId": "9913ae1d-393b-4e3e-9154-6a2ba3a63861"
      },
      "execution_count": null,
      "outputs": [
        {
          "output_type": "execute_result",
          "data": {
            "text/plain": [
              "array([2, 0])"
            ]
          },
          "metadata": {},
          "execution_count": 99
        }
      ]
    },
    {
      "cell_type": "code",
      "source": [
        "df[(df['place'] == '콘서트홀') & (df['ticket_cancel'] == 2)]['date_diff'].value_counts()"
      ],
      "metadata": {
        "colab": {
          "base_uri": "https://localhost:8080/"
        },
        "id": "GY2CgHaXhweD",
        "outputId": "2633c34b-636f-4359-b796-c79d6de10a33"
      },
      "execution_count": null,
      "outputs": [
        {
          "output_type": "execute_result",
          "data": {
            "text/plain": [
              " 0.0    210143\n",
              "-1.0      3075\n",
              "Name: date_diff, dtype: int64"
            ]
          },
          "metadata": {},
          "execution_count": 100
        }
      ]
    },
    {
      "cell_type": "code",
      "source": [
        "df[(df['ticket_cancel'] == 2) & (df['date_diff'] == -1) & (df['place'] == '콘서트홀')]['tran_date']"
      ],
      "metadata": {
        "colab": {
          "base_uri": "https://localhost:8080/"
        },
        "id": "4KEfBPaukrgS",
        "outputId": "419e2370-268e-4dc1-e00f-ba45d966a838"
      },
      "execution_count": null,
      "outputs": [
        {
          "output_type": "execute_result",
          "data": {
            "text/plain": [
              "15        1970-01-01 00:00:00.020221030\n",
              "64        1970-01-01 00:00:00.020220905\n",
              "97        1970-01-01 00:00:00.020211118\n",
              "431       1970-01-01 00:00:00.020220909\n",
              "1328      1970-01-01 00:00:00.020220905\n",
              "                       ...             \n",
              "1916913   1970-01-01 00:00:00.020220905\n",
              "1917934   1970-01-01 00:00:00.020220131\n",
              "1919356   1970-01-01 00:00:00.020200420\n",
              "1919896   1970-01-01 00:00:00.020211118\n",
              "1920292   1970-01-01 00:00:00.020200523\n",
              "Name: tran_date, Length: 3075, dtype: datetime64[ns]"
            ]
          },
          "metadata": {},
          "execution_count": 105
        }
      ]
    },
    {
      "cell_type": "code",
      "source": [
        "nan_values = {\n",
        "    'tran_date': df[df['place'] == '콘서트홀']['tran_date'].isna().sum(),\n",
        "    'open_date': df[df['place'] == '콘서트홀']['open_date'].isna().sum(),\n",
        "    'pre_open_date': df[df['place'] == '콘서트홀']['pre_open_date'].isna().sum(),\n",
        "    'ticket_cancel': df[df['place'] == '콘서트홀']['ticket_cancel'].isna().sum(),\n",
        "    'open_date_diff': df[df['place'] == '콘서트홀']['open_date_diff'].isna().sum()\n",
        "}\n",
        "\n",
        "print(nan_values)"
      ],
      "metadata": {
        "colab": {
          "base_uri": "https://localhost:8080/"
        },
        "id": "y1hWmALQilGB",
        "outputId": "54f80198-8ab9-4678-a889-0dc1a4e2a460"
      },
      "execution_count": null,
      "outputs": [
        {
          "output_type": "stream",
          "name": "stdout",
          "text": [
            "{'tran_date': 0, 'open_date': 0, 'pre_open_date': 395645, 'ticket_cancel': 0, 'open_date_diff': 60522}\n"
          ]
        }
      ]
    },
    {
      "cell_type": "code",
      "source": [
        "# '콘서트홀'에 대한 필터 적용\n",
        "filtered_df = df[df['place'] == '콘서트홀']\n",
        "\n",
        "# 'open_date_diff' 값에 따른 전체 행의 수\n",
        "total_counts = filtered_df['open_date_diff'].value_counts()\n",
        "\n",
        "# 'open_date_diff' 값에 따라 'ticket_cancel' 값이 2인 행의 수\n",
        "cancel_2_counts = filtered_df[filtered_df['ticket_cancel'] == 2]['open_date_diff'].value_counts()\n",
        "\n",
        "# 비율 계산\n",
        "proportions = (cancel_2_counts / total_counts).fillna(0)\n",
        "\n",
        "print(proportions)"
      ],
      "metadata": {
        "colab": {
          "base_uri": "https://localhost:8080/"
        },
        "id": "ZzWblelpbF09",
        "outputId": "93eeb20c-d389-46ea-8a54-6193e0cd8e61"
      },
      "execution_count": null,
      "outputs": [
        {
          "output_type": "stream",
          "name": "stdout",
          "text": [
            " 0.0    0.207409\n",
            "-1.0    0.132178\n",
            "Name: open_date_diff, dtype: float64\n"
          ]
        }
      ]
    },
    {
      "cell_type": "code",
      "source": [
        "len(df[(df['tran_date'] < df['open_date']) & (df['pre_open_date'].isna()) & (df['place'] == '콘서트홀')])"
      ],
      "metadata": {
        "colab": {
          "base_uri": "https://localhost:8080/"
        },
        "id": "3HDelJWXca9S",
        "outputId": "404cdbe5-ab83-45e0-f61d-c4307d183644"
      },
      "execution_count": null,
      "outputs": [
        {
          "output_type": "execute_result",
          "data": {
            "text/plain": [
              "33224"
            ]
          },
          "metadata": {},
          "execution_count": 97
        }
      ]
    },
    {
      "cell_type": "code",
      "source": [
        "len(df[(df['tran_date'] < df['open_date']) & (df['pre_open_date'].isna()) & (df['place'] == '콘서트홀')])"
      ],
      "metadata": {
        "id": "tqgWsWxEgb8U"
      },
      "execution_count": null,
      "outputs": []
    },
    {
      "cell_type": "code",
      "source": [
        "df['play_date']"
      ],
      "metadata": {
        "colab": {
          "base_uri": "https://localhost:8080/"
        },
        "id": "bYKb8YUQ7Kc_",
        "outputId": "32843a8a-11ef-489b-c0a8-41a761661c18"
      },
      "execution_count": null,
      "outputs": [
        {
          "output_type": "execute_result",
          "data": {
            "text/plain": [
              "0          20220204\n",
              "1          20211009\n",
              "2          20221105\n",
              "3          20190731\n",
              "4          20220302\n",
              "             ...   \n",
              "1920863    20190706\n",
              "1920864    20230408\n",
              "1920865    20210619\n",
              "1920866    20211127\n",
              "1920867    20210619\n",
              "Name: play_date, Length: 1920868, dtype: int64"
            ]
          },
          "metadata": {},
          "execution_count": 107
        }
      ]
    },
    {
      "cell_type": "code",
      "source": [
        "import pandas as pd\n",
        "\n",
        "# 'play_date'를 datetime 객체로 변환\n",
        "df['play_date'] = pd.to_datetime(df['play_date'].astype(str))\n",
        "\n",
        "# 요일을 숫자로 반환 (0: 월요일, 1: 화요일, ... , 6: 일요일)\n",
        "df['day_of_week_num'] = df['play_date'].dt.dayofweek\n",
        "\n",
        "# 숫자를 해당 요일명으로 매핑\n",
        "days = {0: '월', 1: '화', 2: '수', 3: '목', 4: '금', 5: '토', 6: '일'}\n",
        "df['day_of_week'] = df['day_of_week_num'].map(days)\n",
        "\n",
        "# 결과 확인\n",
        "print(df[['play_date', 'day_of_week']])"
      ],
      "metadata": {
        "colab": {
          "base_uri": "https://localhost:8080/"
        },
        "id": "WnoznN-j7LxJ",
        "outputId": "9fe3e738-3d60-4410-afc3-35ca513d7b16"
      },
      "execution_count": null,
      "outputs": [
        {
          "output_type": "stream",
          "name": "stdout",
          "text": [
            "         play_date day_of_week\n",
            "0       2022-02-04           금\n",
            "1       2021-10-09           토\n",
            "2       2022-11-05           토\n",
            "3       2019-07-31           수\n",
            "4       2022-03-02           수\n",
            "...            ...         ...\n",
            "1920863 2019-07-06           토\n",
            "1920864 2023-04-08           토\n",
            "1920865 2021-06-19           토\n",
            "1920866 2021-11-27           토\n",
            "1920867 2021-06-19           토\n",
            "\n",
            "[1920868 rows x 2 columns]\n"
          ]
        }
      ]
    },
    {
      "cell_type": "code",
      "source": [
        "df['day_of_week'].value_counts()"
      ],
      "metadata": {
        "colab": {
          "base_uri": "https://localhost:8080/"
        },
        "id": "Cmw2aaOw7enm",
        "outputId": "daf9995d-7fb7-412d-cda3-40e955d1db26"
      },
      "execution_count": null,
      "outputs": [
        {
          "output_type": "execute_result",
          "data": {
            "text/plain": [
              "토    392545\n",
              "일    370307\n",
              "화    313980\n",
              "수    295656\n",
              "목    278708\n",
              "금    269601\n",
              "월        71\n",
              "Name: day_of_week, dtype: int64"
            ]
          },
          "metadata": {},
          "execution_count": 110
        }
      ]
    },
    {
      "cell_type": "code",
      "source": [
        "import pandas as pd\n",
        "\n",
        "# 'tran_date'와 'play_date'를 datetime 객체로 변환\n",
        "df['play_date'] = pd.to_datetime(df['play_date'])\n",
        "df['tran_date'] = pd.to_datetime(df['tran_date'])\n",
        "\n",
        "# 두 컬럼의 차이 계산하여 'date_diff'라는 새로운 컬럼에 저장\n",
        "df['play_diff'] = df.apply(lambda row: (row['play_date'] - row['tran_date']).days, axis=1)\n",
        "\n",
        "# 결과 확인\n",
        "df['play_diff'].unique()"
      ],
      "metadata": {
        "colab": {
          "base_uri": "https://localhost:8080/"
        },
        "id": "rid1g0Fd7iuV",
        "outputId": "e7a0a25b-f028-4131-b351-881513e3b41a"
      },
      "execution_count": null,
      "outputs": [
        {
          "output_type": "execute_result",
          "data": {
            "text/plain": [
              "array([0])"
            ]
          },
          "metadata": {},
          "execution_count": 118
        }
      ]
    },
    {
      "cell_type": "code",
      "source": [],
      "metadata": {
        "id": "AUvajYlHBLpF"
      },
      "execution_count": null,
      "outputs": []
    },
    {
      "cell_type": "markdown",
      "source": [
        "## 좌석 쪼개기\n",
        "\n",
        "?층 | ?블록?열 | ??  \n",
        "?층 | BOX?? | ??  \n",
        "합창석 | ?블록?열 ??  \n",
        "\n",
        "* 합창석의 경우 `층`이 없어 0으로 표기함\n",
        "* box의 경우 `열`이 없어 0으로 표기함\n",
        "- 블록, box 둘 다 해당 X인 경우 0으로 표기함 -> 콘서트홀은 해당 없을듯?\n",
        "\n",
        "층/합창석(0) | 블록(chr)/BOX(int) | 열(int) | number(int)\n",
        "------------|--------------------|---------|------------\n",
        "3           |9                   |0        |10\n",
        "1           |0                   |7        |5\n",
        "1           |C                   |16       |3"
      ],
      "metadata": {
        "id": "tD4ObOoymB9S"
      }
    },
    {
      "cell_type": "code",
      "source": [
        "df['seat'].head(3)"
      ],
      "metadata": {
        "colab": {
          "base_uri": "https://localhost:8080/"
        },
        "id": "fwv4-W3wmDbc",
        "outputId": "0132fcf0-f51e-4013-ec5d-7b2b832a4bf1"
      },
      "execution_count": null,
      "outputs": [
        {
          "output_type": "execute_result",
          "data": {
            "text/plain": [
              "0      3층 BOX9 10\n",
              "1         1층 7열 5\n",
              "2    1층 C블록 16열 3\n",
              "Name: seat, dtype: object"
            ]
          },
          "metadata": {},
          "execution_count": 6
        }
      ]
    },
    {
      "cell_type": "code",
      "source": [
        "df[df['place'] == '콘서트홀']['seat'].head(3)"
      ],
      "metadata": {
        "colab": {
          "base_uri": "https://localhost:8080/"
        },
        "id": "YYV-vACmsexR",
        "outputId": "3a0626ee-4705-4250-fbb8-257c77965ef7"
      },
      "execution_count": null,
      "outputs": [
        {
          "output_type": "execute_result",
          "data": {
            "text/plain": [
              "0     3층 BOX9 10\n",
              "4    1층 B블록12열 7\n",
              "5     1층 A블록2열 1\n",
              "Name: seat, dtype: object"
            ]
          },
          "metadata": {},
          "execution_count": 7
        }
      ]
    },
    {
      "cell_type": "code",
      "source": [
        "import pandas as pd\n",
        "\n",
        "# 주어진 조건에 따라 값을 추출하는 함수\n",
        "def parse_seat_info(seat_str):\n",
        "    parts = seat_str.split()\n",
        "\n",
        "    # floor 처리\n",
        "    if '합창석' in parts[0]:\n",
        "        floor = 0\n",
        "    else:\n",
        "        floor = int(parts[0].split('층')[0])\n",
        "\n",
        "    # block 처리\n",
        "    if 'BOX' in parts[1]:\n",
        "        block = int(parts[1].split('BOX')[1])\n",
        "        row = 0\n",
        "    elif '블록' in parts[1]:\n",
        "        block = parts[1].split('블록')[0]\n",
        "        row = int(parts[1].split('열')[0].split('블록')[1])\n",
        "    else:\n",
        "        block = None\n",
        "        row = None\n",
        "\n",
        "    # number 처리\n",
        "    number = int(parts[2])\n",
        "\n",
        "    return pd.Series([floor, block, row, number], index=['floor', 'block', 'row', 'number'])"
      ],
      "metadata": {
        "id": "zb9EEZVewB0i"
      },
      "execution_count": null,
      "outputs": []
    },
    {
      "cell_type": "code",
      "source": [
        "# apply 함수를 사용하여 새로운 컬럼 생성\n",
        "df.loc[df['place'] == '콘서트홀', ['floor', 'block', 'row', 'number']] = df[df['place'] == '콘서트홀']['seat'].apply(parse_seat_info)"
      ],
      "metadata": {
        "id": "Z0NtZ4VdnB58"
      },
      "execution_count": null,
      "outputs": []
    },
    {
      "cell_type": "code",
      "source": [
        "df[df['place'] == '콘서트홀'][['seat', 'floor', 'block', 'row', 'number']]"
      ],
      "metadata": {
        "colab": {
          "base_uri": "https://localhost:8080/",
          "height": 424
        },
        "id": "4-OzTY0OwILy",
        "outputId": "b4efe9c6-5b4d-45e2-8c52-ec0ed26b5fd1"
      },
      "execution_count": null,
      "outputs": [
        {
          "output_type": "execute_result",
          "data": {
            "text/plain": [
              "                 seat  floor block   row  number\n",
              "0          3층 BOX9 10    3.0     9   0.0    10.0\n",
              "4         1층 B블록12열 7    1.0     B  12.0     7.0\n",
              "5          1층 A블록2열 1    1.0     A   2.0     1.0\n",
              "6          3층 E블록4열 8    3.0     E   4.0     8.0\n",
              "7          2층 D블록8열 4    2.0     D   8.0     4.0\n",
              "...               ...    ...   ...   ...     ...\n",
              "1920853    1층 A블록2열 2    1.0     A   2.0     2.0\n",
              "1920855    3층 A블록6열 4    3.0     A   6.0     4.0\n",
              "1920856  1층 D블록16열 12    1.0     D  16.0    12.0\n",
              "1920858   1층 D블록20열 8    1.0     D  20.0     8.0\n",
              "1920864    3층 B블록5열 4    3.0     B   5.0     4.0\n",
              "\n",
              "[1096968 rows x 5 columns]"
            ],
            "text/html": [
              "\n",
              "  <div id=\"df-777a7f58-60b9-4c93-a058-c52297e6240b\" class=\"colab-df-container\">\n",
              "    <div>\n",
              "<style scoped>\n",
              "    .dataframe tbody tr th:only-of-type {\n",
              "        vertical-align: middle;\n",
              "    }\n",
              "\n",
              "    .dataframe tbody tr th {\n",
              "        vertical-align: top;\n",
              "    }\n",
              "\n",
              "    .dataframe thead th {\n",
              "        text-align: right;\n",
              "    }\n",
              "</style>\n",
              "<table border=\"1\" class=\"dataframe\">\n",
              "  <thead>\n",
              "    <tr style=\"text-align: right;\">\n",
              "      <th></th>\n",
              "      <th>seat</th>\n",
              "      <th>floor</th>\n",
              "      <th>block</th>\n",
              "      <th>row</th>\n",
              "      <th>number</th>\n",
              "    </tr>\n",
              "  </thead>\n",
              "  <tbody>\n",
              "    <tr>\n",
              "      <th>0</th>\n",
              "      <td>3층 BOX9 10</td>\n",
              "      <td>3.0</td>\n",
              "      <td>9</td>\n",
              "      <td>0.0</td>\n",
              "      <td>10.0</td>\n",
              "    </tr>\n",
              "    <tr>\n",
              "      <th>4</th>\n",
              "      <td>1층 B블록12열 7</td>\n",
              "      <td>1.0</td>\n",
              "      <td>B</td>\n",
              "      <td>12.0</td>\n",
              "      <td>7.0</td>\n",
              "    </tr>\n",
              "    <tr>\n",
              "      <th>5</th>\n",
              "      <td>1층 A블록2열 1</td>\n",
              "      <td>1.0</td>\n",
              "      <td>A</td>\n",
              "      <td>2.0</td>\n",
              "      <td>1.0</td>\n",
              "    </tr>\n",
              "    <tr>\n",
              "      <th>6</th>\n",
              "      <td>3층 E블록4열 8</td>\n",
              "      <td>3.0</td>\n",
              "      <td>E</td>\n",
              "      <td>4.0</td>\n",
              "      <td>8.0</td>\n",
              "    </tr>\n",
              "    <tr>\n",
              "      <th>7</th>\n",
              "      <td>2층 D블록8열 4</td>\n",
              "      <td>2.0</td>\n",
              "      <td>D</td>\n",
              "      <td>8.0</td>\n",
              "      <td>4.0</td>\n",
              "    </tr>\n",
              "    <tr>\n",
              "      <th>...</th>\n",
              "      <td>...</td>\n",
              "      <td>...</td>\n",
              "      <td>...</td>\n",
              "      <td>...</td>\n",
              "      <td>...</td>\n",
              "    </tr>\n",
              "    <tr>\n",
              "      <th>1920853</th>\n",
              "      <td>1층 A블록2열 2</td>\n",
              "      <td>1.0</td>\n",
              "      <td>A</td>\n",
              "      <td>2.0</td>\n",
              "      <td>2.0</td>\n",
              "    </tr>\n",
              "    <tr>\n",
              "      <th>1920855</th>\n",
              "      <td>3층 A블록6열 4</td>\n",
              "      <td>3.0</td>\n",
              "      <td>A</td>\n",
              "      <td>6.0</td>\n",
              "      <td>4.0</td>\n",
              "    </tr>\n",
              "    <tr>\n",
              "      <th>1920856</th>\n",
              "      <td>1층 D블록16열 12</td>\n",
              "      <td>1.0</td>\n",
              "      <td>D</td>\n",
              "      <td>16.0</td>\n",
              "      <td>12.0</td>\n",
              "    </tr>\n",
              "    <tr>\n",
              "      <th>1920858</th>\n",
              "      <td>1층 D블록20열 8</td>\n",
              "      <td>1.0</td>\n",
              "      <td>D</td>\n",
              "      <td>20.0</td>\n",
              "      <td>8.0</td>\n",
              "    </tr>\n",
              "    <tr>\n",
              "      <th>1920864</th>\n",
              "      <td>3층 B블록5열 4</td>\n",
              "      <td>3.0</td>\n",
              "      <td>B</td>\n",
              "      <td>5.0</td>\n",
              "      <td>4.0</td>\n",
              "    </tr>\n",
              "  </tbody>\n",
              "</table>\n",
              "<p>1096968 rows × 5 columns</p>\n",
              "</div>\n",
              "    <div class=\"colab-df-buttons\">\n",
              "\n",
              "  <div class=\"colab-df-container\">\n",
              "    <button class=\"colab-df-convert\" onclick=\"convertToInteractive('df-777a7f58-60b9-4c93-a058-c52297e6240b')\"\n",
              "            title=\"Convert this dataframe to an interactive table.\"\n",
              "            style=\"display:none;\">\n",
              "\n",
              "  <svg xmlns=\"http://www.w3.org/2000/svg\" height=\"24px\" viewBox=\"0 -960 960 960\">\n",
              "    <path d=\"M120-120v-720h720v720H120Zm60-500h600v-160H180v160Zm220 220h160v-160H400v160Zm0 220h160v-160H400v160ZM180-400h160v-160H180v160Zm440 0h160v-160H620v160ZM180-180h160v-160H180v160Zm440 0h160v-160H620v160Z\"/>\n",
              "  </svg>\n",
              "    </button>\n",
              "\n",
              "  <style>\n",
              "    .colab-df-container {\n",
              "      display:flex;\n",
              "      gap: 12px;\n",
              "    }\n",
              "\n",
              "    .colab-df-convert {\n",
              "      background-color: #E8F0FE;\n",
              "      border: none;\n",
              "      border-radius: 50%;\n",
              "      cursor: pointer;\n",
              "      display: none;\n",
              "      fill: #1967D2;\n",
              "      height: 32px;\n",
              "      padding: 0 0 0 0;\n",
              "      width: 32px;\n",
              "    }\n",
              "\n",
              "    .colab-df-convert:hover {\n",
              "      background-color: #E2EBFA;\n",
              "      box-shadow: 0px 1px 2px rgba(60, 64, 67, 0.3), 0px 1px 3px 1px rgba(60, 64, 67, 0.15);\n",
              "      fill: #174EA6;\n",
              "    }\n",
              "\n",
              "    .colab-df-buttons div {\n",
              "      margin-bottom: 4px;\n",
              "    }\n",
              "\n",
              "    [theme=dark] .colab-df-convert {\n",
              "      background-color: #3B4455;\n",
              "      fill: #D2E3FC;\n",
              "    }\n",
              "\n",
              "    [theme=dark] .colab-df-convert:hover {\n",
              "      background-color: #434B5C;\n",
              "      box-shadow: 0px 1px 3px 1px rgba(0, 0, 0, 0.15);\n",
              "      filter: drop-shadow(0px 1px 2px rgba(0, 0, 0, 0.3));\n",
              "      fill: #FFFFFF;\n",
              "    }\n",
              "  </style>\n",
              "\n",
              "    <script>\n",
              "      const buttonEl =\n",
              "        document.querySelector('#df-777a7f58-60b9-4c93-a058-c52297e6240b button.colab-df-convert');\n",
              "      buttonEl.style.display =\n",
              "        google.colab.kernel.accessAllowed ? 'block' : 'none';\n",
              "\n",
              "      async function convertToInteractive(key) {\n",
              "        const element = document.querySelector('#df-777a7f58-60b9-4c93-a058-c52297e6240b');\n",
              "        const dataTable =\n",
              "          await google.colab.kernel.invokeFunction('convertToInteractive',\n",
              "                                                    [key], {});\n",
              "        if (!dataTable) return;\n",
              "\n",
              "        const docLinkHtml = 'Like what you see? Visit the ' +\n",
              "          '<a target=\"_blank\" href=https://colab.research.google.com/notebooks/data_table.ipynb>data table notebook</a>'\n",
              "          + ' to learn more about interactive tables.';\n",
              "        element.innerHTML = '';\n",
              "        dataTable['output_type'] = 'display_data';\n",
              "        await google.colab.output.renderOutput(dataTable, element);\n",
              "        const docLink = document.createElement('div');\n",
              "        docLink.innerHTML = docLinkHtml;\n",
              "        element.appendChild(docLink);\n",
              "      }\n",
              "    </script>\n",
              "  </div>\n",
              "\n",
              "\n",
              "<div id=\"df-d42be212-7003-4182-aa14-614ef3c03eef\">\n",
              "  <button class=\"colab-df-quickchart\" onclick=\"quickchart('df-d42be212-7003-4182-aa14-614ef3c03eef')\"\n",
              "            title=\"Suggest charts.\"\n",
              "            style=\"display:none;\">\n",
              "\n",
              "<svg xmlns=\"http://www.w3.org/2000/svg\" height=\"24px\"viewBox=\"0 0 24 24\"\n",
              "     width=\"24px\">\n",
              "    <g>\n",
              "        <path d=\"M19 3H5c-1.1 0-2 .9-2 2v14c0 1.1.9 2 2 2h14c1.1 0 2-.9 2-2V5c0-1.1-.9-2-2-2zM9 17H7v-7h2v7zm4 0h-2V7h2v10zm4 0h-2v-4h2v4z\"/>\n",
              "    </g>\n",
              "</svg>\n",
              "  </button>\n",
              "\n",
              "<style>\n",
              "  .colab-df-quickchart {\n",
              "    background-color: #E8F0FE;\n",
              "    border: none;\n",
              "    border-radius: 50%;\n",
              "    cursor: pointer;\n",
              "    display: none;\n",
              "    fill: #1967D2;\n",
              "    height: 32px;\n",
              "    padding: 0 0 0 0;\n",
              "    width: 32px;\n",
              "  }\n",
              "\n",
              "  .colab-df-quickchart:hover {\n",
              "    background-color: #E2EBFA;\n",
              "    box-shadow: 0px 1px 2px rgba(60, 64, 67, 0.3), 0px 1px 3px 1px rgba(60, 64, 67, 0.15);\n",
              "    fill: #174EA6;\n",
              "  }\n",
              "\n",
              "  [theme=dark] .colab-df-quickchart {\n",
              "    background-color: #3B4455;\n",
              "    fill: #D2E3FC;\n",
              "  }\n",
              "\n",
              "  [theme=dark] .colab-df-quickchart:hover {\n",
              "    background-color: #434B5C;\n",
              "    box-shadow: 0px 1px 3px 1px rgba(0, 0, 0, 0.15);\n",
              "    filter: drop-shadow(0px 1px 2px rgba(0, 0, 0, 0.3));\n",
              "    fill: #FFFFFF;\n",
              "  }\n",
              "</style>\n",
              "\n",
              "  <script>\n",
              "    async function quickchart(key) {\n",
              "      const charts = await google.colab.kernel.invokeFunction(\n",
              "          'suggestCharts', [key], {});\n",
              "    }\n",
              "    (() => {\n",
              "      let quickchartButtonEl =\n",
              "        document.querySelector('#df-d42be212-7003-4182-aa14-614ef3c03eef button');\n",
              "      quickchartButtonEl.style.display =\n",
              "        google.colab.kernel.accessAllowed ? 'block' : 'none';\n",
              "    })();\n",
              "  </script>\n",
              "</div>\n",
              "    </div>\n",
              "  </div>\n"
            ]
          },
          "metadata": {},
          "execution_count": 14
        }
      ]
    },
    {
      "cell_type": "code",
      "source": [
        "subset_df = df[df['place'] == '콘서트홀'][['seat', 'floor', 'block', 'row', 'number']]\n",
        "subset_df[subset_df.isnull().any(axis=1)]"
      ],
      "metadata": {
        "colab": {
          "base_uri": "https://localhost:8080/",
          "height": 53
        },
        "id": "Qendn3KazQVS",
        "outputId": "5adf413d-073f-42db-b1cc-8edd56ede389"
      },
      "execution_count": null,
      "outputs": [
        {
          "output_type": "execute_result",
          "data": {
            "text/plain": [
              "Empty DataFrame\n",
              "Columns: [seat, floor, block, row, number]\n",
              "Index: []"
            ],
            "text/html": [
              "\n",
              "  <div id=\"df-446a1438-7c73-45d7-839b-eeb883c9ec38\" class=\"colab-df-container\">\n",
              "    <div>\n",
              "<style scoped>\n",
              "    .dataframe tbody tr th:only-of-type {\n",
              "        vertical-align: middle;\n",
              "    }\n",
              "\n",
              "    .dataframe tbody tr th {\n",
              "        vertical-align: top;\n",
              "    }\n",
              "\n",
              "    .dataframe thead th {\n",
              "        text-align: right;\n",
              "    }\n",
              "</style>\n",
              "<table border=\"1\" class=\"dataframe\">\n",
              "  <thead>\n",
              "    <tr style=\"text-align: right;\">\n",
              "      <th></th>\n",
              "      <th>seat</th>\n",
              "      <th>floor</th>\n",
              "      <th>block</th>\n",
              "      <th>row</th>\n",
              "      <th>number</th>\n",
              "    </tr>\n",
              "  </thead>\n",
              "  <tbody>\n",
              "  </tbody>\n",
              "</table>\n",
              "</div>\n",
              "    <div class=\"colab-df-buttons\">\n",
              "\n",
              "  <div class=\"colab-df-container\">\n",
              "    <button class=\"colab-df-convert\" onclick=\"convertToInteractive('df-446a1438-7c73-45d7-839b-eeb883c9ec38')\"\n",
              "            title=\"Convert this dataframe to an interactive table.\"\n",
              "            style=\"display:none;\">\n",
              "\n",
              "  <svg xmlns=\"http://www.w3.org/2000/svg\" height=\"24px\" viewBox=\"0 -960 960 960\">\n",
              "    <path d=\"M120-120v-720h720v720H120Zm60-500h600v-160H180v160Zm220 220h160v-160H400v160Zm0 220h160v-160H400v160ZM180-400h160v-160H180v160Zm440 0h160v-160H620v160ZM180-180h160v-160H180v160Zm440 0h160v-160H620v160Z\"/>\n",
              "  </svg>\n",
              "    </button>\n",
              "\n",
              "  <style>\n",
              "    .colab-df-container {\n",
              "      display:flex;\n",
              "      gap: 12px;\n",
              "    }\n",
              "\n",
              "    .colab-df-convert {\n",
              "      background-color: #E8F0FE;\n",
              "      border: none;\n",
              "      border-radius: 50%;\n",
              "      cursor: pointer;\n",
              "      display: none;\n",
              "      fill: #1967D2;\n",
              "      height: 32px;\n",
              "      padding: 0 0 0 0;\n",
              "      width: 32px;\n",
              "    }\n",
              "\n",
              "    .colab-df-convert:hover {\n",
              "      background-color: #E2EBFA;\n",
              "      box-shadow: 0px 1px 2px rgba(60, 64, 67, 0.3), 0px 1px 3px 1px rgba(60, 64, 67, 0.15);\n",
              "      fill: #174EA6;\n",
              "    }\n",
              "\n",
              "    .colab-df-buttons div {\n",
              "      margin-bottom: 4px;\n",
              "    }\n",
              "\n",
              "    [theme=dark] .colab-df-convert {\n",
              "      background-color: #3B4455;\n",
              "      fill: #D2E3FC;\n",
              "    }\n",
              "\n",
              "    [theme=dark] .colab-df-convert:hover {\n",
              "      background-color: #434B5C;\n",
              "      box-shadow: 0px 1px 3px 1px rgba(0, 0, 0, 0.15);\n",
              "      filter: drop-shadow(0px 1px 2px rgba(0, 0, 0, 0.3));\n",
              "      fill: #FFFFFF;\n",
              "    }\n",
              "  </style>\n",
              "\n",
              "    <script>\n",
              "      const buttonEl =\n",
              "        document.querySelector('#df-446a1438-7c73-45d7-839b-eeb883c9ec38 button.colab-df-convert');\n",
              "      buttonEl.style.display =\n",
              "        google.colab.kernel.accessAllowed ? 'block' : 'none';\n",
              "\n",
              "      async function convertToInteractive(key) {\n",
              "        const element = document.querySelector('#df-446a1438-7c73-45d7-839b-eeb883c9ec38');\n",
              "        const dataTable =\n",
              "          await google.colab.kernel.invokeFunction('convertToInteractive',\n",
              "                                                    [key], {});\n",
              "        if (!dataTable) return;\n",
              "\n",
              "        const docLinkHtml = 'Like what you see? Visit the ' +\n",
              "          '<a target=\"_blank\" href=https://colab.research.google.com/notebooks/data_table.ipynb>data table notebook</a>'\n",
              "          + ' to learn more about interactive tables.';\n",
              "        element.innerHTML = '';\n",
              "        dataTable['output_type'] = 'display_data';\n",
              "        await google.colab.output.renderOutput(dataTable, element);\n",
              "        const docLink = document.createElement('div');\n",
              "        docLink.innerHTML = docLinkHtml;\n",
              "        element.appendChild(docLink);\n",
              "      }\n",
              "    </script>\n",
              "  </div>\n",
              "\n",
              "    </div>\n",
              "  </div>\n"
            ]
          },
          "metadata": {},
          "execution_count": 15
        }
      ]
    },
    {
      "cell_type": "code",
      "source": [
        "df['floor']\n",
        "df['block']\n",
        "df['row']\n",
        "df['number']"
      ],
      "metadata": {
        "id": "DBzAKbAxmFFf"
      },
      "execution_count": null,
      "outputs": []
    }
  ]
}